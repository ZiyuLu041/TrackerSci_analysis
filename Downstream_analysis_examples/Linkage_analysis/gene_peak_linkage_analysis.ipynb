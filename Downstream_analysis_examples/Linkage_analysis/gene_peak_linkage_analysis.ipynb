{
 "cells": [
  {
   "cell_type": "code",
   "execution_count": null,
   "id": "cf34cfca",
   "metadata": {},
   "outputs": [],
   "source": [
    "##Load a collection of utility functions that may be called in the following analysis\n",
    "load(\"~/scRNA.image.RData\")"
   ]
  },
  {
   "cell_type": "code",
   "execution_count": null,
   "id": "b2b7913b",
   "metadata": {},
   "outputs": [],
   "source": [
    "dir.create(\"/lustre/fs4/cao_lab/scratch/zlu/ZL_20210113_sciRate//Intermediate_data/230813_gene_peak_linkage_analysis_example\")"
   ]
  },
  {
   "cell_type": "code",
   "execution_count": null,
   "id": "2ba97b8b",
   "metadata": {},
   "outputs": [],
   "source": [
    "setwd(\"/lustre/fs4/cao_lab/scratch/zlu/ZL_20210113_sciRate//Intermediate_data/230813_gene_peak_linkage_analysis_example\")"
   ]
  },
  {
   "cell_type": "markdown",
   "id": "c69e5042",
   "metadata": {},
   "source": [
    "# 1. generate pseudo multi-omics cells based on kmeans clustering"
   ]
  },
  {
   "cell_type": "code",
   "execution_count": null,
   "id": "8fa7ca6b",
   "metadata": {},
   "outputs": [],
   "source": [
    "library(ggplot2)\n",
    "library(tidyverse)\n",
    "library(RColorBrewer)"
   ]
  },
  {
   "cell_type": "code",
   "execution_count": null,
   "id": "81d94790",
   "metadata": {},
   "outputs": [],
   "source": [
    "##Read in a cell metadata table after running integration analysis, contains the umap coordinates in the column \"UMAP_1\" and \"UMAP_2\".\n",
    "df_cell = read.csv(\"df_cell_integrated.csv\",row.names=1)"
   ]
  },
  {
   "cell_type": "code",
   "execution_count": null,
   "id": "fbdc4f9a",
   "metadata": {},
   "outputs": [],
   "source": [
    "##First, define the mean number of cells per kmeans cluster you want, and perform kmeans clustering using function \"kmeans()\"\n",
    "mean_num_per_cluster=150\n",
    "n = max(2, ceiling(nrow(df_cell) / mean_num_per_cluster))\n",
    "kmeans_clusters <- kmeans(df_cell %>% select(UMAP_1, UMAP_2), centers = n, \n",
    "                          nstart = 20, iter.max = 20)\n",
    "df_cell[,'cluster'] = as.character(kmeans_clusters$cluster)"
   ]
  },
  {
   "cell_type": "markdown",
   "id": "32fcc4b9",
   "metadata": {},
   "source": [
    "# 2. Aggregate RNA and ATAC cells from the same kmeans cluster"
   ]
  },
  {
   "cell_type": "code",
   "execution_count": null,
   "id": "1c01e7ef",
   "metadata": {},
   "outputs": [],
   "source": [
    "##read in single-cell RNA-seq or ATAC-seq data in monocle cds object\n",
    "cds_RNA = readRDS(\"//lustre/fs4/cao_lab/scratch/zlu/ZL_20210113_sciRate//Intermediate_data/230813_gene_peak_linkage_analysis_example/cds_RNA.rds\")\n",
    "cds_ATAC = readRDS(\"/lustre/fs4/cao_lab/scratch/zlu/ZL_20210113_sciRate//Intermediate_data/230813_gene_peak_linkage_analysis_example/cds_ATAC.rds\")"
   ]
  },
  {
   "cell_type": "code",
   "execution_count": null,
   "id": "ac000ba1",
   "metadata": {},
   "outputs": [],
   "source": [
    "cds.RNA$cluster = as.numeric(df_cell[cds.RNA$sample,'cluster'])\n",
    "cds.ATAC$cluster = as.numeric(df_cell[cds.ATAC$sample,'cluster'])"
   ]
  },
  {
   "cell_type": "code",
   "execution_count": null,
   "id": "12325516",
   "metadata": {
    "code_folding": []
   },
   "outputs": [],
   "source": [
    "##Aggregate gene/peak count matrix based on the kmeans cluster id\n",
    "n = length(unique(df_cell$cluster))\n",
    "df_celltype_ratio_kmeans = as.matrix(table(df_cell[,'cluster'],df_cell[,'Main_cluster_name']))/as.vector(table(df_cell[,'cluster']))\n",
    "id = colnames(df_celltype_ratio_kmeans)[apply(df_celltype_ratio_kmeans,1,which.max)]\n",
    "agg_cellid=paste(1:n, id, sep = \"_\")\n",
    "\n",
    "agg_gene_count = lapply(1:n, function(x) {\n",
    "        sample_name_list = (pData(cds.RNA)[pData(cds.RNA)[,'cluster'] == x, ])$sample\n",
    "        return(Matrix::rowSums((exprs(cds.RNA))[, pData(cds.RNA)[,'sample'] %in% sample_name_list]))\n",
    "        })\n",
    "\n",
    "agg_peak_count = lapply(1:n, function(x) {\n",
    "        sample_name_list = (pData(cds.ATAC)[pData(cds.ATAC)[,'cluster'] == x, ])$sample\n",
    "        return(Matrix::rowSums((exprs(cds.ATAC))[, pData(cds.ATAC)[,'sample'] %in% sample_name_list]))\n",
    "        })\n",
    "agg_gene_count = do.call(cbind, agg_gene_count)\n",
    "agg_peak_count = do.call(cbind, agg_peak_count)\n",
    "    \n",
    "colnames(agg_gene_count) = agg_cellid\n",
    "colnames(agg_peak_count) = agg_cellid"
   ]
  },
  {
   "cell_type": "code",
   "execution_count": null,
   "id": "f94ad535",
   "metadata": {
    "code_folding": []
   },
   "outputs": [],
   "source": [
    "##Prepare aggregated cds object for further analysis\n",
    "df_cell_RNA_cluster = data.frame(pData(cds.RNA)[,'cluster'])\n",
    "df_cell_ATAC_cluster = data.frame(pData(cds.ATAC)[,'cluster'])\n",
    "df_cell_name_RNA = data.frame(\"cell_name\" = colnames(agg_gene_count), \n",
    "                             \"cell_num\" = sapply(1:n, function(x) {return(sum(df_cell_RNA_cluster[, 1] == x))}))\n",
    "df_cell_name_ATAC = data.frame(\"cell_name\" = colnames(agg_peak_count), \n",
    "                             \"cell_num\" = sapply(1:n, function(x) {return(sum(df_cell_ATAC_cluster[, 1] == x))}))\n",
    "df_cell_name_RNA[,'Main_cluster_name'] = str_split_fixed(df_cell_name_RNA[,'cell_name'],'_',2)[,2]\n",
    "df_cell_name_ATAC[,'Main_cluster_name'] = str_split_fixed(df_cell_name_ATAC[,'cell_name'],'_',2)[,2]\n",
    "rownames(df_cell_name_RNA) = df_cell_name_RNA[,'cell_name']\n",
    "rownames(df_cell_name_ATAC) = df_cell_name_ATAC[,'cell_name']\n",
    "\n",
    "rownames(df_cell_name_RNA) = make.names(rownames(df_cell_name_RNA))\n",
    "df_cell_name_RNA[,'sample'] = rownames(df_cell_name_RNA)\n",
    "cds_agg_RNA = cds_construct(agg_gene_count, df_cell_name_RNA, fData(cds.RNA))\n",
    "rownames(df_cell_name_ATAC) = make.names(rownames(df_cell_name_ATAC))\n",
    "df_cell_name_ATAC[,'sample'] = rownames(df_cell_name_ATAC)\n",
    "cds_agg_ATAC = cds_construct(agg_peak_count, df_cell_name_ATAC, fData(cds.ATAC)%>%mutate(gene_id=peak))"
   ]
  },
  {
   "cell_type": "code",
   "execution_count": null,
   "id": "fec68ac1",
   "metadata": {},
   "outputs": [],
   "source": [
    "saveRDS(cds_agg_RNA,\"cds_agg_RNA.rds\")\n",
    "saveRDS(cds_agg_ATAC,\"cds_agg_ATAC.rds\")"
   ]
  },
  {
   "cell_type": "markdown",
   "id": "e5d44157",
   "metadata": {},
   "source": [
    "# 3. perform linkage analysis"
   ]
  },
  {
   "cell_type": "code",
   "execution_count": null,
   "id": "27c12b3c",
   "metadata": {},
   "outputs": [],
   "source": [
    "library(tidyverse)\n",
    "library(Matrix.utils)\n",
    "library(Matrix)\n",
    "library(BiocParallel)\n",
    "library(monocle)"
   ]
  },
  {
   "cell_type": "code",
   "execution_count": null,
   "id": "4f51b68b",
   "metadata": {
    "code_folding": []
   },
   "outputs": [],
   "source": [
    "##Master function to perform gene-peak linkage analysis\n",
    "##Input required:\n",
    "##1. gene_id: a R vector object listing which genes are input the analysis, \n",
    "##by default all genes passing a expression cutoff (TPM>10) will be included.\n",
    "##2. distance: a number indicating which peaks are considered nearby for a given gene, by default is 500kb.\n",
    "##3. df_anno: a dataframe of all genes and peaks. An exmaple can be found in the same folder.\n",
    "##4. MM: a combined expression matrix concatenated from gene count and peak count matrix, \n",
    "##genes and peaks as rows and cells as columns.\n",
    "##5. df_promoter_ATAC: a data frame of annotations which peaks are overlapped with promoter regions. \n",
    "##An exmaple can be found in the same folder.\n",
    "##6. df_peak_ATAC: a dataframe containing peak infomation of the ATAC matrix. An example can be found in the same folder.\n",
    "##Output: A R list object containing pearson coefficient for each gene-peak pair and other information.\n",
    "gene_peak_linkage_analysis <- function(gene.id, distance, df_anno, MM, df_promoter_ATAC, df_peak_ATAC) {\n",
    "\n",
    "        # find the adjacent peak id\n",
    "        gene_location = df_promoter_ATAC %>% filter(grepl(gene.id,gene))\n",
    "        find_gene = FALSE\n",
    "        find_promoter = FALSE\n",
    "        find_distal = FALSE\n",
    "        expr.vector = 0\n",
    "        promoter.vector = 0\n",
    "        distal.vector = 0\n",
    "        distal.num = 0\n",
    "        promoter.num = 0\n",
    "        distal.num = 0 \n",
    "        gene.id = gene.id\n",
    "        expr.cor.promoter = NULL \n",
    "        expr.cor.distal = NULL\n",
    "        dis.peaks.distance = NULL\n",
    "\n",
    "        if((nrow(gene_location) >= 1) & (gene.id %in% (df_anno[,'id'])))\n",
    "            {\n",
    "            expr.vector = MM[gene.id,]\n",
    "            find_gene = TRUE\n",
    "            chr.site = c(gene_location[,'chr'])[1]\n",
    "            start.site = as.numeric(gene_location[,'start'])\n",
    "            end.site = as.numeric(gene_location[,'end'])\n",
    "            promoter_peak.site = unique(c(gene_location[,'peak']))\n",
    "            dis.peaks = (df_peak_ATAC %>% filter(chr == chr.site) \n",
    "                         %>% filter(end > min(start.site) - distance) \n",
    "                         %>% filter(start < max(start.site) + distance)\n",
    "                         %>% filter(peak %in% df_anno[,'id'])\n",
    "                         %>% filter(!(peak %in% promoter_peak.site)))\n",
    "            dis.peaks[,'promoter_dist'] = abs((dis.peaks[,'start'] + dis.peaks[,'end'])/2 - mean(start.site))\n",
    "\n",
    "            if(sum(promoter_peak.site %in% df_anno[,'id']) > 0) {\n",
    "                find_promoter = TRUE\n",
    "                if(sum(promoter_peak.site %in% df_anno[,'id']) > 1) {\n",
    "                    promoter_peak.site = promoter_peak.site[promoter_peak.site %in% df_anno[,'id']]\n",
    "                    promoter.vector = t(MM[promoter_peak.site,])\n",
    "                    promoter.num = ncol(promoter.vector)\n",
    "                    expr.cor.promoter = cor(promoter.vector, expr.vector)[,1]\n",
    "\n",
    "                    }\n",
    "                if(sum(promoter_peak.site %in% df_anno[,'id']) == 1){\n",
    "                    promoter_peak.site = promoter_peak.site[promoter_peak.site %in% df_anno[,'id']]\n",
    "                    promoter.vector = MM[promoter_peak.site,]\n",
    "                    promoter.num = 1\n",
    "                    expr.cor.promoter = cor(promoter.vector, expr.vector)\n",
    "                    names(expr.cor.promoter) = promoter_peak.site\n",
    "                }\n",
    "            }\n",
    "\n",
    "            if(nrow(dis.peaks) > 1) {\n",
    "                find_distal = TRUE\n",
    "                # filter the postively linked sites\n",
    "                distal.vector = t(MM[dis.peaks[,'peak'],])\n",
    "                distal.num = ncol(distal.vector)\n",
    "#                 cat(\"\\n number of distal vector: \", distal.num)\n",
    "                expr.cor.distal = cor(distal.vector, expr.vector)[, 1]\n",
    "                dis.peaks.distance = (dis.peaks[,'start'] + dis.peaks[,'end'])/2 - mean(start.site)\n",
    "                names(dis.peaks.distance) = dis.peaks[,'peak']\n",
    "            }\n",
    "            if(nrow(dis.peaks)==1){\n",
    "                find_distal = TRUE\n",
    "                # filter the postively linked sites\n",
    "                distal.vector = MM[dis.peaks[,'peak'],]\n",
    "                distal.num = 1\n",
    "#                 cat(\"\\n number of distal vector: \", distal.num)\n",
    "                expr.cor.distal = cor(distal.vector, expr.vector)\n",
    "                names(expr.cor.distal) = dis.peaks[,'peak']\n",
    "                dis.peaks.distance = (dis.peaks[,'start'] + dis.peaks[,'end'])/2 - mean(start.site)\n",
    "                names(dis.peaks.distance) = dis.peaks[,'peak']\n",
    "                \n",
    "                \n",
    "                \n",
    "            }\n",
    "        }\n",
    "\n",
    "        return(list(find_gene, find_promoter, find_distal, expr.vector, promoter.vector, \n",
    "                    distal.vector,promoter.num,distal.num,gene.id,\n",
    "                    expr.cor.promoter,expr.cor.distal,dis.peaks.distance))\n",
    "    }"
   ]
  },
  {
   "cell_type": "code",
   "execution_count": null,
   "id": "d63efd03",
   "metadata": {
    "code_folding": []
   },
   "outputs": [],
   "source": [
    "##A summary fucntion to grep all useful information from the linkage analysis.\n",
    "linkage_results_summary = function(linkage_output){\n",
    "\n",
    "find.genes = (sapply(1:length(linkage_output), function(x) {linkage_output[[x]][[1]]}))\n",
    "find.promoters = (sapply(1:length(linkage_output), function(x) {linkage_output[[x]][[2]]}))\n",
    "find.distals = (sapply(1:length(linkage_output), function(x) {linkage_output[[x]][[3]]}))\n",
    "promoter.vector.ls = (sapply(1:length(linkage_output), function(x) {linkage_output[[x]][[5]]}))\n",
    "promoter.nums = (sapply(1:length(linkage_output), function(x) {linkage_output[[x]][[7]]}))\n",
    "dist.nums = (sapply(1:length(linkage_output), function(x) {linkage_output[[x]][[8]]}))\n",
    "gene_id_tested = (sapply(1:length(linkage_output), function(x) {linkage_output[[x]][[9]]}))\n",
    "pearsonr_promoter = (sapply(1:length(linkage_output), function(x) {linkage_output[[x]][[10]]}))\n",
    "pearsonr_dist = (sapply(1:length(linkage_output), function(x) {linkage_output[[x]][[11]]}))\n",
    "distal.distance = (sapply(1:length(linkage_output), function(x) {linkage_output[[x]][[12]]}))\n",
    "\n",
    "names(distal.distance) = gene_id_tested\n",
    "names(find.genes) = gene_id_tested\n",
    "names(pearsonr_dist) = gene_id_tested\n",
    "names(pearsonr_promoter) = gene_id_tested\n",
    "\n",
    "df_distal_distance = data.frame(unlist(distal.distance))%>% \n",
    "    dplyr::rename(distance = `unlist.distal.distance.`)\n",
    "df_pearsonr_dist = as.data.frame(unlist(pearsonr_dist)) %>% \n",
    "    dplyr::rename(pearsonr = `unlist(pearsonr_dist)`) %>% \n",
    "    mutate(region='distal')\n",
    "\n",
    "rownames_split = str_split_fixed(rownames(df_distal_distance),\"[.]\",3)\n",
    "df_distal_distance$gene_id = paste(rownames_split[,1],rownames_split[,2],sep='.')\n",
    "df_distal_distance$peak = rownames_split[,3]\n",
    "\n",
    "df_pearsonr_promoter = as.data.frame(unlist(pearsonr_promoter)) %>% \n",
    "    dplyr::rename(pearsonr = `unlist(pearsonr_promoter)`) %>% \n",
    "    mutate(region='promoter')\n",
    "df_pearsonr = rbind(df_pearsonr_dist,df_pearsonr_promoter)\n",
    "rownames_split = str_split_fixed(rownames(df_pearsonr),\"[.]\",3)\n",
    "df_pearsonr$gene_id = paste(rownames_split[,1],rownames_split[,2],sep='.')\n",
    "df_pearsonr$peak = rownames_split[,3]\n",
    "df_pearsonr = df_pearsonr %>% left_join(df_distal_distance %>% select(gene_id,peak,distance))\n",
    "return(df_pearsonr)\n",
    "}"
   ]
  },
  {
   "cell_type": "code",
   "execution_count": null,
   "id": "95548cb7",
   "metadata": {},
   "outputs": [],
   "source": [
    "##Read in the aggregated RNA gene count matrix and ATAC peak count matrix\n",
    "cds_agg_RNA = readRDS(\"cds_agg_RNA.rds\")\n",
    "cds_agg_ATAC = readRDS(\"cds_agg_ATAC.rds\")\n",
    "agg_peak_count = exprs(cds_agg_ATAC)\n",
    "agg_gene_count = exprs(cds_agg_RNA)\n",
    "df_peak_ATAC = fData(cds_agg_ATAC)\n",
    "df_promoter_ATAC = read.csv('df_promoter_ATAC.csv',row.names = 1)"
   ]
  },
  {
   "cell_type": "code",
   "execution_count": null,
   "id": "cca4d85f",
   "metadata": {},
   "outputs": [],
   "source": [
    "##Data transform, filtering and input prepration for the linakge analysis\n",
    "TPM_RNA = agg_gene_count/colSums(agg_gene_count)*1e+6\n",
    "TPM_ATAC = agg_peak_count/colSums(agg_peak_count)*1e+6\n",
    "max_TPM_RNA = apply(TPM_RNA,1,max)\n",
    "max_TPM_ATAC = apply(TPM_ATAC,1,max)\n",
    "TPM_RNA_fil = TPM_RNA[max_TPM_RNA>10,]\n",
    "TPM_ATAC_fil = TPM_ATAC[max_TPM_ATAC>10,]\n",
    "gene = data.frame(\"type\" = \"gene\", \"id\" = row.names(TPM_RNA_fil))\n",
    "peak = data.frame(\"type\" = \"peak\", \"id\" = row.names(TPM_ATAC_fil))\n",
    "MM = rbind(log2(TPM_RNA_fil+0.01), log2(TPM_ATAC_fil+0.01))\n",
    "df_anno = rbind(gene, peak)"
   ]
  },
  {
   "cell_type": "code",
   "execution_count": null,
   "id": "d346cac8",
   "metadata": {},
   "outputs": [],
   "source": [
    "##Permute the ATAC-seq dataset\n",
    "TPM_ATAC_fil_permute = TPM_ATAC_fil[,sample(1:ncol(TPM_ATAC_fil),ncol(TPM_ATAC_fil))]\n",
    "colnames(TPM_ATAC_fil_permute) = colnames(TPM_ATAC_fil)\n",
    "MM_permute = rbind(log2(TPM_RNA_fil+0.01), log2(TPM_ATAC_fil_permute+0.01))"
   ]
  },
  {
   "cell_type": "code",
   "execution_count": null,
   "id": "96efd69d",
   "metadata": {},
   "outputs": [],
   "source": [
    "##Define the gene list and genomic distance regarding which peaks to be included for a given gene\n",
    "gene_list = rownames(TPM_RNA_fil)\n",
    "distance = 500000"
   ]
  },
  {
   "cell_type": "code",
   "execution_count": null,
   "id": "2db11d81",
   "metadata": {},
   "outputs": [],
   "source": [
    "##Perform linkage analysis using real data\n",
    "linkage_output = lapply(gene_list, function(x) {\n",
    "gene_peak_linkage_analysis(x, distance, df_anno, MM, df_promoter_ATAC, df_peak_ATAC)})\n",
    "df_pearsonr = linkage_results_summary(linkage_output)"
   ]
  },
  {
   "cell_type": "code",
   "execution_count": null,
   "id": "a0de3914",
   "metadata": {},
   "outputs": [],
   "source": [
    "##Perform linkage analysis using permutated data\n",
    "linkage_output_permute = lapply(gene_list, function(x) {\n",
    "gene_peak_linkage_analysis(x, distance, df_anno, MM_permute, df_promoter_ATAC, df_peak_ATAC)})\n",
    "df_pearsonr_permute = linkage_results_summary(linkage_output_permute)"
   ]
  },
  {
   "cell_type": "code",
   "execution_count": null,
   "id": "2abe0e1b",
   "metadata": {
    "code_folding": [
     0
    ]
   },
   "outputs": [],
   "source": [
    "##Define a FDR cutoff, and calculate the pearsonr cutoff based on the permutation.\n",
    "\n",
    "FDR_cutoff=0.05\n",
    "\n",
    "df_pearsonr_permute$permutation = 'cell_id_permutated'\n",
    "df_pearsonr$permutation = 'no_permutation'\n",
    "df_pearsonr_combine_positive = rbind(df_pearsonr %>% select(pearsonr,permutation),\n",
    "                                     df_pearsonr_permute %>% select(pearsonr,permutation)) %>% filter(pearsonr>0)\n",
    "\n",
    "cutoff = seq(0.15,0.5,0.0025)\n",
    "FDR = list()\n",
    "True_link_num = list()\n",
    "False_link_num= list()\n",
    "\n",
    "for(pearsonr_cut in cutoff){\n",
    "df_pearsonr_combine_positive[,'pass_cutoff'] = df_pearsonr_combine_positive[,'pearsonr']>pearsonr_cut\n",
    "df=table(df_pearsonr_combine_positive[,'pass_cutoff'],df_pearsonr_combine_positive[,'permutation'])\n",
    "tmp_FDR=df[2,1]/sum(df[2,1]+df[2,2])\n",
    "# print(paste0(pearsonr_cut,\":\",tmp_FDR))\n",
    "FDR[as.character(pearsonr_cut)] = tmp_FDR\n",
    "True_link_num[as.character(pearsonr_cut)] = df[2,2]\n",
    "False_link_num[as.character(pearsonr_cut)] = df[2,1]\n",
    "}\n",
    "df = as.data.frame(cbind(unlist(FDR),\n",
    "      unlist(True_link_num),\n",
    "      unlist(False_link_num)))\n",
    "colnames(df) = c(\"FDR\",\"Link\",\"Link_permutated\")\n",
    "df$pearsonr_cutoff = as.numeric(rownames(df))\n",
    "\n",
    "pearsonr_cutoff = min((df %>% filter(FDR<=FDR_cutoff))$pearsonr_cutoff)"
   ]
  },
  {
   "cell_type": "code",
   "execution_count": null,
   "id": "e45fd457",
   "metadata": {},
   "outputs": [],
   "source": [
    "##Filtered list of gene peak linkage passing pearsonr cutoff. \n",
    "##The linkage list can be further filtered by further by expresssion cutoff and cell-type specificity cutoff.\n",
    "df_pearsonr_filtered = df_pearsonr %>% dplyr::filter(pearsonr >= pearsonr_cutoff)\n",
    "saveRDS(df_pearsonr_filtered,\"df_pearsonr_filtered.rds\")"
   ]
  },
  {
   "cell_type": "code",
   "execution_count": null,
   "id": "ac7b565c",
   "metadata": {},
   "outputs": [],
   "source": []
  },
  {
   "cell_type": "code",
   "execution_count": null,
   "id": "34e9dc51",
   "metadata": {},
   "outputs": [],
   "source": []
  }
 ],
 "metadata": {
  "kernelspec": {
   "display_name": "R [conda env:R4.1.new]",
   "language": "R",
   "name": "conda-env-R4.1.new-r"
  },
  "language_info": {
   "codemirror_mode": "r",
   "file_extension": ".r",
   "mimetype": "text/x-r-source",
   "name": "R",
   "pygments_lexer": "r",
   "version": "4.1.3"
  }
 },
 "nbformat": 4,
 "nbformat_minor": 5
}
