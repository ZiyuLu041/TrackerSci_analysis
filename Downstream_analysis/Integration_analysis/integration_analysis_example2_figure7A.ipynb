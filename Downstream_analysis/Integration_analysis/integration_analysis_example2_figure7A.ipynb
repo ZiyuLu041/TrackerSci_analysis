{
 "cells": [
  {
   "cell_type": "markdown",
   "id": "69ee94d4",
   "metadata": {},
   "source": [
    "# 1. load packages, set working directory, read in data and functions"
   ]
  },
  {
   "cell_type": "code",
   "execution_count": null,
   "id": "d5df9e4b",
   "metadata": {},
   "outputs": [],
   "source": [
    "library(Seurat)\n",
    "library(monocle)"
   ]
  },
  {
   "cell_type": "code",
   "execution_count": null,
   "id": "c0d91ac0",
   "metadata": {},
   "outputs": [],
   "source": [
    "dir.create(\"/lustre/fs4/cao_lab/scratch/zlu/ZL_20210113_sciRate//Intermediate_data/230813_integration_example2\")\n",
    "setwd(\"/lustre/fs4/cao_lab/scratch/zlu/ZL_20210113_sciRate//Intermediate_data/230813_integration_example2\")\n"
   ]
  },
  {
   "cell_type": "code",
   "execution_count": null,
   "id": "3cc25b53",
   "metadata": {
    "code_folding": [
     0
    ]
   },
   "outputs": [],
   "source": [
    "run_Seurat_integration = function(Seu.list,n_pcs = 50,nfeatures=5000,min.dist=0.01,n.neighbors=100){\n",
    "\n",
    "seu.list <- lapply(X = Seu.list, FUN = function(x) {\n",
    "    x <- NormalizeData(x)\n",
    "    x <- FindVariableFeatures(x, selection.method = \"vst\", nfeatures = nfeatures)\n",
    "})\n",
    "# select features that are repeatedly variable across datasets for integration\n",
    "features <- SelectIntegrationFeatures(object.list = seu.list)\n",
    "anchors <- FindIntegrationAnchors(object.list = seu.list, anchor.features = features)\n",
    "seu.combined <- IntegrateData(anchorset = anchors)\n",
    "DefaultAssay(seu.combined) <- \"integrated\"\n",
    "\n",
    "# Run the standard workflow for visualization and clustering\n",
    "seu.combined <- ScaleData(seu.combined, verbose = FALSE)\n",
    "seu.combined <- RunPCA(seu.combined, npcs = n_pcs, verbose = FALSE)\n",
    "seu.combined <- RunUMAP(seu.combined, reduction = \"pca\", dims = 1:n_pcs,min.dist = min.dist,return.model = T,\n",
    "                        n.neighbors = n.neighbors)\n",
    "seu.combined <- FindNeighbors(seu.combined, reduction = \"pca\", dims = 1:n_pcs)\n",
    "seu.combined <- FindClusters(seu.combined, resolution = 0.5)     \n",
    "seu.combined@meta.data = cbind(seu.combined@meta.data,Embeddings(seu.combined, reduction = \"umap\"))\n",
    "return(seu.combined)\n",
    "}"
   ]
  },
  {
   "cell_type": "code",
   "execution_count": null,
   "id": "78bc33af",
   "metadata": {},
   "outputs": [],
   "source": [
    "##Read in the human and mouse data stored in seurat object\n",
    "Seu_mouse=readRDS(\"/lustre/fs4/cao_lab/scratch/zlu/ZL_20210113_sciRate//Intermediate_data/230813_integration_example2/Seu_mouse.rds\")\n",
    "Seu_human=readRDS(\"/lustre/fs4/cao_lab/scratch/zlu/ZL_20210113_sciRate//Intermediate_data/230813_integration_example2/Seu_human.rds\")"
   ]
  },
  {
   "cell_type": "code",
   "execution_count": null,
   "id": "ede5cee8",
   "metadata": {},
   "outputs": [],
   "source": [
    "Seu_human@meta.data$dataset='Human'\n",
    "Seu_mouse@meta.data[which(Seu_mouse@meta.data$EdU=='EdU'),'dataset']='TrackerSci_EdU'\n",
    "Seu_mouse@meta.data[which(Seu_mouse@meta.data$EdU=='DAPI'),'dataset']='TrackerSci_DAPI'"
   ]
  },
  {
   "cell_type": "code",
   "execution_count": null,
   "id": "1dc11eb6",
   "metadata": {},
   "outputs": [],
   "source": [
    "##Note: before the analysis, make sure gene names are all capitalized in both human and mouse dataset"
   ]
  },
  {
   "cell_type": "markdown",
   "id": "fe063c3f",
   "metadata": {},
   "source": [
    "# 2. Perform integration analysis"
   ]
  },
  {
   "cell_type": "markdown",
   "id": "dfd471f1",
   "metadata": {},
   "source": [
    "## 2.1 integrate mouse with a subsampled human dataset "
   ]
  },
  {
   "cell_type": "code",
   "execution_count": null,
   "id": "4bc591c9",
   "metadata": {
    "code_folding": [
     0
    ]
   },
   "outputs": [],
   "source": [
    "sample_cell_id <- function(id_list, type_list, target, sample_num) {\n",
    "        df_tmp = data.frame(id = id_list, type = type_list)\n",
    "        type_num = nrow(df_tmp %>% filter(type == target))\n",
    "        if (type_num > sample_num) {\n",
    "            target_list = df_tmp %>% filter(type == target) %>% \n",
    "                sample_n(sample_num)\n",
    "        }\n",
    "        else {\n",
    "            target_list = df_tmp %>% filter(type == target)\n",
    "        }\n",
    "        result = as.character(target_list$id)\n",
    "        return(result)\n",
    "    }"
   ]
  },
  {
   "cell_type": "code",
   "execution_count": null,
   "id": "0bbefca6",
   "metadata": {},
   "outputs": [],
   "source": [
    "##subsample 5000 cells from each main cell type from human dataset\n",
    "##cell annotations are in the \"Main_cluster_name\" column\n",
    "Cluster=Seu_human@meta.data$Main_cluster_name\n",
    "sample_id=rownames(Seu_human@meta.data)\n",
    "sample_num=5000\n",
    "sample_cell_all = sapply(unique(Cluster), function(x) {\n",
    "        sample_cell_id(sample_id, Cluster, x, sample_num)\n",
    "    })\n",
    "cells_selected = unlist(sample_cell_all)"
   ]
  },
  {
   "cell_type": "code",
   "execution_count": null,
   "id": "d86703cf",
   "metadata": {},
   "outputs": [],
   "source": [
    "Seu_human_subsampled = subset(Seu_human,cells = cells_selected )"
   ]
  },
  {
   "cell_type": "code",
   "execution_count": null,
   "id": "59bbef85",
   "metadata": {},
   "outputs": [],
   "source": [
    "Seu.list = list(Seu_human_subsampled,Seu_mouse)"
   ]
  },
  {
   "cell_type": "code",
   "execution_count": null,
   "id": "ec7a8efa",
   "metadata": {},
   "outputs": [],
   "source": [
    "Seu.combined.subsampled = run_Seurat_integration(Seu.list)"
   ]
  },
  {
   "cell_type": "markdown",
   "id": "3f8dd632",
   "metadata": {},
   "source": [
    "## 2.2 map the rest of human cells to the existing integrative umap space"
   ]
  },
  {
   "cell_type": "code",
   "execution_count": null,
   "id": "333465a6",
   "metadata": {},
   "outputs": [],
   "source": [
    "Seu_human@meta.data$sample=rownames(Seu_human@meta.data)"
   ]
  },
  {
   "cell_type": "code",
   "execution_count": null,
   "id": "9ea4231e",
   "metadata": {},
   "outputs": [],
   "source": [
    "query_cells_id = (Seu_human@meta.data %>% filter(!(sample %in% rownames(Seu_human_subsampled@meta.data))))$sample"
   ]
  },
  {
   "cell_type": "code",
   "execution_count": null,
   "id": "3279d257",
   "metadata": {},
   "outputs": [],
   "source": [
    "Seu_human_rest = subset(Seu_human,cells=query_cells_id)"
   ]
  },
  {
   "cell_type": "code",
   "execution_count": null,
   "id": "73e8b009",
   "metadata": {},
   "outputs": [],
   "source": [
    "##Map the rest of human cells to the existing integrative umap space\n",
    "anchors <- FindTransferAnchors(reference = Seu.combined.subsampled, query = Seu_human_rest,\n",
    "    dims = 1:50, reference.reduction = \"pca\")\n",
    "Seu_human_rest <- MapQuery(anchorset = anchors, \n",
    "                  reference = Seu.combined.subsampled, \n",
    "                  query = Seu_human_rest,\n",
    "                  refdata = list(celltype = \"Main_cluster_name\"), \n",
    "                  reference.reduction = \"pca\", \n",
    "                  reduction.model = \"umap\")"
   ]
  },
  {
   "cell_type": "code",
   "execution_count": null,
   "id": "410ac23d",
   "metadata": {
    "code_folding": []
   },
   "outputs": [],
   "source": [
    "##combine all cells into one seurat object\n",
    "Seu_combined = merge(Seu.combined.subsampled,Seu_human_rest)\n",
    "Seu_combined@reductions[['umap']]=CreateDimReducObject(\n",
    "embeddings = rbind(Seu.combined.subsampled@reductions[['umap']]@cell.embeddings,\n",
    "      Seu_human_rest@reductions[['ref.umap']]@cell.embeddings))"
   ]
  },
  {
   "cell_type": "code",
   "execution_count": null,
   "id": "d2f61635",
   "metadata": {},
   "outputs": [],
   "source": [
    "saveRDS(Seu_combined,\"/lustre/fs4/cao_lab/scratch/zlu/ZL_20210113_sciRate//Intermediate_data/230813_integration_example2/Seu_combined.rds\")"
   ]
  },
  {
   "cell_type": "markdown",
   "id": "b40b15c8",
   "metadata": {
    "heading_collapsed": true
   },
   "source": [
    "# 3. check output"
   ]
  },
  {
   "cell_type": "code",
   "execution_count": 1,
   "id": "b52b67c8",
   "metadata": {
    "hidden": true
   },
   "outputs": [
    {
     "name": "stderr",
     "output_type": "stream",
     "text": [
      "Attaching SeuratObject\n",
      "\n"
     ]
    }
   ],
   "source": [
    "library(Seurat)\n",
    "library(ggplot2)"
   ]
  },
  {
   "cell_type": "code",
   "execution_count": 2,
   "id": "daa0bebf",
   "metadata": {
    "hidden": true
   },
   "outputs": [],
   "source": [
    "Seu_combined = readRDS(\"/lustre/fs4/cao_lab/scratch/zlu/ZL_20210113_sciRate//Intermediate_data/230813_integration_example2/Seu_combined.rds\")"
   ]
  },
  {
   "cell_type": "code",
   "execution_count": 3,
   "id": "df5515d0",
   "metadata": {
    "hidden": true
   },
   "outputs": [
    {
     "name": "stderr",
     "output_type": "stream",
     "text": [
      "Rasterizing points since number of points exceeds 100,000.\n",
      "To disable this behavior set `raster=FALSE`\n",
      "\n"
     ]
    },
    {
     "data": {
      "image/png": "[encoded data removed]",
      "text/plain": [
       "plot without title"
      ]
     },
     "metadata": {
      "image/png": {
       "height": 420,
       "width": 420
      }
     },
     "output_type": "display_data"
    }
   ],
   "source": [
    "DimPlot(Seu_combined,group.by = 'dataset')+theme(aspect.ratio = 1)"
   ]
  },
  {
   "cell_type": "code",
   "execution_count": null,
   "id": "c2f1e32f",
   "metadata": {
    "hidden": true
   },
   "outputs": [],
   "source": []
  }
 ],
 "metadata": {
  "kernelspec": {
   "display_name": "R [conda env:R4.1.new]",
   "language": "R",
   "name": "conda-env-R4.1.new-r"
  },
  "language_info": {
   "codemirror_mode": "r",
   "file_extension": ".r",
   "mimetype": "text/x-r-source",
   "name": "R",
   "pygments_lexer": "r",
   "version": "4.1.3"
  }
 },
 "nbformat": 4,
 "nbformat_minor": 5
}
