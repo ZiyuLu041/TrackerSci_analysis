{
 "cells": [
  {
   "cell_type": "code",
   "execution_count": null,
   "id": "06f53796",
   "metadata": {},
   "outputs": [],
   "source": [
    "load(\"~/notebook/scRNA.image.RData\")"
   ]
  },
  {
   "cell_type": "code",
   "execution_count": null,
   "id": "67e307b6",
   "metadata": {},
   "outputs": [],
   "source": [
    "dir.create(\"/lustre/fs4/cao_lab/scratch/zlu/ZL_20210113_sciRate//Intermediate_data/230813_gene_peak_linkage_analysis_example\")"
   ]
  },
  {
   "cell_type": "code",
   "execution_count": null,
   "id": "a5b8f689",
   "metadata": {},
   "outputs": [],
   "source": [
    "setwd(\"/lustre/fs4/cao_lab/scratch/zlu/ZL_20210113_sciRate//Intermediate_data/230813_gene_peak_linkage_analysis_example\")"
   ]
  },
  {
   "cell_type": "code",
   "execution_count": null,
   "id": "a018de0c",
   "metadata": {
    "code_folding": [
     0
    ]
   },
   "outputs": [],
   "source": [
    "gene_peak_linkage_analysis <- function(gene.id, distance, df_anno, MM, df_promoter_ATAC, df_peak_ATAC) {\n",
    "\n",
    "        # find the adjacent peak id\n",
    "        gene_location = df_promoter_ATAC %>% filter(grepl(gene.id,gene))\n",
    "        find_gene = FALSE\n",
    "        find_promoter = FALSE\n",
    "        find_distal = FALSE\n",
    "        expr.vector = 0\n",
    "        promoter.vector = 0\n",
    "        distal.vector = 0\n",
    "        distal.num = 0\n",
    "        promoter.num = 0\n",
    "        distal.num = 0 \n",
    "        gene.id = gene.id\n",
    "        expr.cor.promoter = NULL \n",
    "        expr.cor.distal = NULL\n",
    "        dis.peaks.distance = NULL\n",
    "\n",
    "        if((nrow(gene_location) >= 1) & (gene.id %in% (df_anno$id)))\n",
    "            {\n",
    "            expr.vector = MM[gene.id,]\n",
    "            find_gene = TRUE\n",
    "            chr.site = c(gene_location$chr)[1]\n",
    "            start.site = as.numeric(gene_location$start)\n",
    "            end.site = as.numeric(gene_location$end)\n",
    "            promoter_peak.site = unique(c(gene_location$peak))\n",
    "            \n",
    "#             cat(\"\\n gene_id: \", gene.id)\n",
    "#             cat(\"\\n start_thresh: \", min(start.site) - distance)\n",
    "#             cat(\"\\n end_thresh: \", max(start.site) + distance)\n",
    "\n",
    "            dis.peaks = (df_peak_ATAC %>% filter(chr == chr.site) \n",
    "                         %>% filter(end > min(start.site) - distance) \n",
    "                         %>% filter(start < max(start.site) + distance)\n",
    "                         %>% filter(peak %in% df_anno$id)\n",
    "                         %>% filter(!(peak %in% promoter_peak.site)))\n",
    "            dis.peaks$promoter_dist = abs((dis.peaks$start + dis.peaks$end)/2 - mean(start.site))\n",
    "#             cat(\"\\n Number of distal site: \", nrow(dis.peaks))\n",
    "#             cat(\"Promoter peak site:\", promoter_peak.site)\n",
    "\n",
    "            if(sum(promoter_peak.site %in% df_anno$id) > 0) {\n",
    "                find_promoter = TRUE\n",
    "#                 cat(sum(promoter_peak.site %in% df_anno$id),\"\\n\")\n",
    "                if(sum(promoter_peak.site %in% df_anno$id) > 1) {\n",
    "                    promoter_peak.site = promoter_peak.site[promoter_peak.site %in% df_anno$id]\n",
    "#                     cat(promoter_peak.site,\"\\n\")\n",
    "                    promoter.vector = t(MM[promoter_peak.site,])\n",
    "                    promoter.num = ncol(promoter.vector)\n",
    "#                     cat(promoter.num,\"\\n\")\n",
    "                    expr.cor.promoter = cor(promoter.vector, expr.vector)[,1]\n",
    "\n",
    "                    }\n",
    "                if(sum(promoter_peak.site %in% df_anno$id) == 1){\n",
    "                    promoter_peak.site = promoter_peak.site[promoter_peak.site %in% df_anno$id]\n",
    "#                     cat(promoter_peak.site,\"\\n\")\n",
    "                    promoter.vector = MM[promoter_peak.site,]\n",
    "                    promoter.num = 1\n",
    "                    expr.cor.promoter = cor(promoter.vector, expr.vector)\n",
    "                    names(expr.cor.promoter) = promoter_peak.site\n",
    "                }\n",
    "            }\n",
    "\n",
    "            if(nrow(dis.peaks) > 1) {\n",
    "                find_distal = TRUE\n",
    "                # filter the postively linked sites\n",
    "                distal.vector = t(MM[dis.peaks$peak,])\n",
    "                distal.num = ncol(distal.vector)\n",
    "#                 cat(\"\\n number of distal vector: \", distal.num)\n",
    "                expr.cor.distal = cor(distal.vector, expr.vector)[, 1]\n",
    "                dis.peaks.distance = (dis.peaks$start + dis.peaks$end)/2 - mean(start.site)\n",
    "                names(dis.peaks.distance) = dis.peaks$peak\n",
    "            }\n",
    "            if(nrow(dis.peaks)==1){\n",
    "                find_distal = TRUE\n",
    "                # filter the postively linked sites\n",
    "                distal.vector = MM[dis.peaks$peak,]\n",
    "                distal.num = 1\n",
    "#                 cat(\"\\n number of distal vector: \", distal.num)\n",
    "                expr.cor.distal = cor(distal.vector, expr.vector)\n",
    "                names(expr.cor.distal) = dis.peaks$peak\n",
    "                dis.peaks.distance = (dis.peaks$start + dis.peaks$end)/2 - mean(start.site)\n",
    "                names(dis.peaks.distance) = dis.peaks$peak\n",
    "                \n",
    "                \n",
    "                \n",
    "            }\n",
    "        }\n",
    "\n",
    "        return(list(find_gene, find_promoter, find_distal, expr.vector, promoter.vector, \n",
    "                    distal.vector,promoter.num,distal.num,gene.id,\n",
    "                    expr.cor.promoter,expr.cor.distal,dis.peaks.distance))\n",
    "    }"
   ]
  },
  {
   "cell_type": "code",
   "execution_count": null,
   "id": "28b03072",
   "metadata": {
    "code_folding": [
     0
    ]
   },
   "outputs": [],
   "source": [
    "linkage_results_summary = function(linkage_output){\n",
    "find.genes = (sapply(1:length(linkage_output), function(x) {linkage_output[[x]][[1]]}))\n",
    "find.promoters = (sapply(1:length(linkage_output), function(x) {linkage_output[[x]][[2]]}))\n",
    "find.distals = (sapply(1:length(linkage_output), function(x) {linkage_output[[x]][[3]]}))\n",
    "promoter.vector.ls = (sapply(1:length(linkage_output), function(x) {linkage_output[[x]][[5]]}))\n",
    "promoter.nums = (sapply(1:length(linkage_output), function(x) {linkage_output[[x]][[7]]}))\n",
    "dist.nums = (sapply(1:length(linkage_output), function(x) {linkage_output[[x]][[8]]}))\n",
    "gene_id_tested = (sapply(1:length(linkage_output), function(x) {linkage_output[[x]][[9]]}))\n",
    "pearsonr_promoter = (sapply(1:length(linkage_output), function(x) {linkage_output[[x]][[10]]}))\n",
    "pearsonr_dist = (sapply(1:length(linkage_output), function(x) {linkage_output[[x]][[11]]}))\n",
    "distal.distance = (sapply(1:length(linkage_output), function(x) {linkage_output[[x]][[12]]}))\n",
    "\n",
    "names(distal.distance) = gene_id_tested\n",
    "names(find.genes) = gene_id_tested\n",
    "names(pearsonr_dist) = gene_id_tested\n",
    "names(pearsonr_promoter) = gene_id_tested\n",
    "\n",
    "df_distal_distance = data.frame(unlist(distal.distance))%>% dplyr::rename(distance = `unlist.distal.distance.`)\n",
    "df_pearsonr_dist = as.data.frame(unlist(pearsonr_dist)) %>% dplyr::rename(pearsonr = `unlist(pearsonr_dist)`) %>% mutate(region='distal')\n",
    "\n",
    "rownames_split = str_split_fixed(rownames(df_distal_distance),\"[.]\",3)\n",
    "df_distal_distance$gene_id = paste(rownames_split[,1],rownames_split[,2],sep='.')\n",
    "df_distal_distance$peak = rownames_split[,3]\n",
    "\n",
    "df_pearsonr_promoter = as.data.frame(unlist(pearsonr_promoter)) %>% dplyr::rename(pearsonr = `unlist(pearsonr_promoter)`) %>% mutate(region='promoter')\n",
    "df_pearsonr = rbind(df_pearsonr_dist,df_pearsonr_promoter)\n",
    "rownames_split = str_split_fixed(rownames(df_pearsonr),\"[.]\",3)\n",
    "df_pearsonr$gene_id = paste(rownames_split[,1],rownames_split[,2],sep='.')\n",
    "df_pearsonr$peak = rownames_split[,3]\n",
    "df_pearsonr = df_pearsonr %>% left_join(df_distal_distance %>% select(gene_id,peak,distance))\n",
    "return(df_pearsonr)\n",
    "}"
   ]
  },
  {
   "cell_type": "markdown",
   "id": "571fa1a1",
   "metadata": {
    "heading_collapsed": true
   },
   "source": [
    "# 1. generate pseudo multi-omics cells based on kmeans clustering"
   ]
  },
  {
   "cell_type": "code",
   "execution_count": null,
   "id": "76d93ae9",
   "metadata": {
    "hidden": true
   },
   "outputs": [],
   "source": [
    "library(ggplot2)\n",
    "library(tidyverse)\n",
    "library(RColorBrewer)"
   ]
  },
  {
   "cell_type": "code",
   "execution_count": null,
   "id": "b17ed68f",
   "metadata": {
    "hidden": true
   },
   "outputs": [],
   "source": [
    "##Read in a cell metadata table after running integration analysis, contains the umap coordinates in the column \"UMAP_1\" and \"UMAP_2\".\n",
    "df_cell = read.csv(\"df_cell_integrated.csv\",row.names=1)"
   ]
  },
  {
   "cell_type": "code",
   "execution_count": null,
   "id": "43ce5cf3",
   "metadata": {
    "hidden": true
   },
   "outputs": [],
   "source": [
    "g=plot_categorical_label(df_cell,\n",
    "                         'UMAP_1','UMAP_2','Main_cluster_name',label.text = F,\n",
    "                         fig.width = 15,fig.height = 5,size=0.1)\n",
    "g+facet_wrap(~assay)"
   ]
  },
  {
   "cell_type": "code",
   "execution_count": null,
   "id": "2d65bccc",
   "metadata": {
    "hidden": true
   },
   "outputs": [],
   "source": [
    "##First, define the mean number of cells per kmeans cluster you want, and perform kmeans clustering using function \"kmeans()\"\n",
    "mean_num_per_cluster=150\n",
    "n = max(2, ceiling(nrow(df_cell) / mean_num_per_cluster))\n",
    "kmeans_clusters <- kmeans(df_cell %>% select(UMAP_1, UMAP_2), centers = n, \n",
    "                          nstart = 20, iter.max = 20)\n",
    "df_cell$cluster = as.character(kmeans_clusters$cluster)"
   ]
  },
  {
   "cell_type": "code",
   "execution_count": null,
   "id": "08158254",
   "metadata": {
    "hidden": true
   },
   "outputs": [],
   "source": [
    "g=plot_categorical_label(df_cell,\n",
    "                         'UMAP_1','UMAP_2','cluster',label.text = T,\n",
    "                         fig.width = 5,fig.height = 5,size=0.1)\n",
    "g"
   ]
  },
  {
   "cell_type": "markdown",
   "id": "993e7a41",
   "metadata": {
    "heading_collapsed": true
   },
   "source": [
    "# 2. Aggregate RNA and ATAC cells from the same kmeans cluster"
   ]
  },
  {
   "cell_type": "code",
   "execution_count": null,
   "id": "18855c6a",
   "metadata": {
    "hidden": true
   },
   "outputs": [],
   "source": [
    "cds_RNA = readRDS(\"//lustre/fs4/cao_lab/scratch/zlu/ZL_20210113_sciRate//Intermediate_data/230813_gene_peak_linkage_analysis_example/cds_RNA.rds\")\n",
    "cds_ATAC = readRDS(\"/lustre/fs4/cao_lab/scratch/zlu/ZL_20210113_sciRate//Intermediate_data/230813_gene_peak_linkage_analysis_example/cds_ATAC.rds\")"
   ]
  },
  {
   "cell_type": "code",
   "execution_count": null,
   "id": "81bdbc5a",
   "metadata": {
    "hidden": true
   },
   "outputs": [],
   "source": [
    "cds.RNA$cluster = as.numeric(df_cell[cds.RNA$sample,'cluster'])\n",
    "cds.ATAC$cluster = as.numeric(df_cell[cds.ATAC$sample,'cluster'])"
   ]
  },
  {
   "cell_type": "code",
   "execution_count": null,
   "id": "634de95a",
   "metadata": {
    "hidden": true
   },
   "outputs": [],
   "source": [
    "n = length(unique(df_cell$cluster))\n",
    "df_celltype_ratio_kmeans = as.matrix(table(df_cell$cluster,df_cell$Main_cluster_name))/as.vector(table(df_cell$cluster))\n",
    "id = colnames(df_celltype_ratio_kmeans)[apply(df_celltype_ratio_kmeans,1,which.max)]\n",
    "agg_cellid=paste(1:n, id, sep = \"_\")\n",
    "\n",
    "agg_gene_count = lapply(1:n, function(x) {\n",
    "        sample_name_list = (pData(cds.RNA)[cds.RNA$cluster == x, ])$sample\n",
    "        return(Matrix::rowSums((exprs(cds.RNA))[, cds.RNA$sample %in% sample_name_list]))\n",
    "        })\n",
    "\n",
    "agg_peak_count = lapply(1:n, function(x) {\n",
    "        sample_name_list = (pData(cds.ATAC)[cds.ATAC$cluster == x, ])$sample\n",
    "        return(Matrix::rowSums((exprs(cds.ATAC))[, cds.ATAC$sample %in% sample_name_list]))\n",
    "        })\n",
    "agg_gene_count = do.call(cbind, agg_gene_count)\n",
    "agg_peak_count = do.call(cbind, agg_peak_count)\n",
    "    \n",
    "colnames(agg_gene_count) = agg_cellid\n",
    "colnames(agg_peak_count) = agg_cellid"
   ]
  },
  {
   "cell_type": "code",
   "execution_count": null,
   "id": "a451105b",
   "metadata": {
    "hidden": true
   },
   "outputs": [],
   "source": [
    "head(agg_gene_count)[,1:10]"
   ]
  },
  {
   "cell_type": "code",
   "execution_count": null,
   "id": "7aeba43d",
   "metadata": {
    "hidden": true
   },
   "outputs": [],
   "source": [
    "head(agg_peak_count)[,1:10]"
   ]
  },
  {
   "cell_type": "code",
   "execution_count": null,
   "id": "b3a232a7",
   "metadata": {
    "hidden": true
   },
   "outputs": [],
   "source": [
    "df_cell_RNA_cluster = data.frame(cds.RNA$cluster)\n",
    "df_cell_ATAC_cluster = data.frame(cds.ATAC$cluster)\n",
    "df_cell_name_RNA = data.frame(\"cell_name\" = colnames(agg_gene_count), \n",
    "                             \"cell_num\" = sapply(1:n, function(x) {return(sum(df_cell_RNA_cluster[, 1] == x))}))\n",
    "df_cell_name_ATAC = data.frame(\"cell_name\" = colnames(agg_peak_count), \n",
    "                             \"cell_num\" = sapply(1:n, function(x) {return(sum(df_cell_ATAC_cluster[, 1] == x))}))\n",
    "df_cell_name_RNA$Main_cluster_name = str_split_fixed(df_cell_name_RNA$cell_name,'_',2)[,2]\n",
    "df_cell_name_ATAC$Main_cluster_name = str_split_fixed(df_cell_name_ATAC$cell_name,'_',2)[,2]\n",
    "rownames(df_cell_name_RNA) = df_cell_name_RNA$cell_name\n",
    "rownames(df_cell_name_ATAC) = df_cell_name_ATAC$cell_name"
   ]
  },
  {
   "cell_type": "code",
   "execution_count": null,
   "id": "d98f2df6",
   "metadata": {
    "hidden": true
   },
   "outputs": [],
   "source": [
    "rownames(df_cell_name_RNA) = make.names(rownames(df_cell_name_RNA))\n",
    "df_cell_name_RNA$sample = rownames(df_cell_name_RNA)\n",
    "cds_agg_RNA = cds_construct(agg_gene_count, df_cell_name_RNA, fData(cds.RNA))\n",
    "rownames(df_cell_name_ATAC) = make.names(rownames(df_cell_name_ATAC))\n",
    "df_cell_name_ATAC$sample = rownames(df_cell_name_ATAC)\n",
    "cds_agg_ATAC = cds_construct(agg_peak_count, df_cell_name_ATAC, fData(cds.ATAC)%>%mutate(gene_id=peak))"
   ]
  },
  {
   "cell_type": "code",
   "execution_count": null,
   "id": "eb09ea5d",
   "metadata": {
    "hidden": true
   },
   "outputs": [],
   "source": []
  },
  {
   "cell_type": "code",
   "execution_count": null,
   "id": "2ac4ca1a",
   "metadata": {
    "hidden": true
   },
   "outputs": [],
   "source": [
    "saveRDS(cds_agg_RNA,\"//lustre/fs4/cao_lab/scratch/zlu/ZL_20210113_sciRate//Intermediate_data/230813_gene_peak_linkage_analysis_example/cds_agg_RNA.rds\")\n",
    "saveRDS(cds_agg_ATAC,\"//lustre/fs4/cao_lab/scratch/zlu/ZL_20210113_sciRate//Intermediate_data/230813_gene_peak_linkage_analysis_example/cds_agg_ATAC.rds\")"
   ]
  },
  {
   "cell_type": "markdown",
   "id": "3f6397a6",
   "metadata": {
    "heading_collapsed": true
   },
   "source": [
    "# 3. perform linkage analysis"
   ]
  },
  {
   "cell_type": "code",
   "execution_count": null,
   "id": "ec88a5e7",
   "metadata": {
    "hidden": true
   },
   "outputs": [],
   "source": [
    "library(tidyverse)\n",
    "library(Matrix.utils)\n",
    "library(Matrix)\n",
    "library(stringr)\n",
    "library(DESeq2)\n",
    "library(cowplot)\n",
    "library(BiocParallel)\n",
    "library(monocle)"
   ]
  },
  {
   "cell_type": "code",
   "execution_count": null,
   "id": "00c8333d",
   "metadata": {
    "hidden": true
   },
   "outputs": [],
   "source": [
    "cds_agg_RNA = readRDS(\"/lustre/fs4/cao_lab/scratch/zlu/ZL_20210113_sciRate/Intermediate_data/ZL_20220218_sciRate_RNA_ATAC_linkage_analysis/cds_agg_RNA.rds\")\n",
    "cds_agg_ATAC = readRDS(\"/lustre/fs4/cao_lab/scratch/zlu/ZL_20210113_sciRate/Intermediate_data/ZL_20220218_sciRate_RNA_ATAC_linkage_analysis/cds_agg_ATAC.rds\")"
   ]
  },
  {
   "cell_type": "code",
   "execution_count": null,
   "id": "a9a20e8c",
   "metadata": {
    "hidden": true,
    "scrolled": true
   },
   "outputs": [],
   "source": [
    "agg_peak_count = exprs(cds_agg_ATAC)\n",
    "agg_gene_count = exprs(cds_agg_RNA)\n",
    "df_peak_ATAC = fData(cds_agg_ATAC)"
   ]
  },
  {
   "cell_type": "code",
   "execution_count": null,
   "id": "33b485f6",
   "metadata": {
    "hidden": true
   },
   "outputs": [],
   "source": [
    "df_promoter_ATAC = read.csv('df_promoter_ATAC.csv',row.names = 1)"
   ]
  },
  {
   "cell_type": "code",
   "execution_count": null,
   "id": "91a16651",
   "metadata": {
    "hidden": true
   },
   "outputs": [],
   "source": [
    "head(df_promoter_ATAC)"
   ]
  },
  {
   "cell_type": "code",
   "execution_count": null,
   "id": "64f870b4",
   "metadata": {
    "hidden": true
   },
   "outputs": [],
   "source": [
    "TPM_RNA = agg_gene_count/colSums(agg_gene_count)*1e+6\n",
    "TPM_ATAC = agg_peak_count/colSums(agg_peak_count)*1e+6\n",
    "max_TPM_RNA = apply(TPM_RNA,1,max)\n",
    "max_TPM_ATAC = apply(TPM_ATAC,1,max)\n",
    "TPM_RNA_fil = TPM_RNA[max_TPM_RNA>10,]\n",
    "TPM_ATAC_fil = TPM_ATAC[max_TPM_ATAC>10,]"
   ]
  },
  {
   "cell_type": "code",
   "execution_count": null,
   "id": "ce94aadb",
   "metadata": {
    "hidden": true
   },
   "outputs": [],
   "source": [
    "gene = data.frame(\"type\" = \"gene\", \"id\" = row.names(TPM_RNA_fil))\n",
    "peak = data.frame(\"type\" = \"peak\", \"id\" = row.names(TPM_ATAC_fil))\n",
    "MM = rbind(log2(TPM_RNA_fil+0.01), log2(TPM_ATAC_fil+0.01))\n",
    "df_anno = rbind(gene, peak)"
   ]
  },
  {
   "cell_type": "code",
   "execution_count": null,
   "id": "82909ec5",
   "metadata": {
    "hidden": true
   },
   "outputs": [],
   "source": [
    "TPM_ATAC_fil_permute = TPM_ATAC_fil[,sample(1:ncol(TPM_ATAC_fil),ncol(TPM_ATAC_fil))]\n",
    "colnames(TPM_ATAC_fil_permute) = colnames(TPM_ATAC_fil)\n",
    "MM_permute = rbind(log2(TPM_RNA_fil+0.01), log2(TPM_ATAC_fil_permute+0.01))"
   ]
  },
  {
   "cell_type": "code",
   "execution_count": null,
   "id": "e4948ed6",
   "metadata": {
    "hidden": true
   },
   "outputs": [],
   "source": [
    "gene_list = rownames(TPM_RNA_fil)\n",
    "distance = 500000\n",
    "\n",
    "linkage_output = lapply(gene_list, function(x) {gene_peak_linkage_analysis(x, distance, df_anno, MM, df_promoter_ATAC, df_peak_ATAC)})\n",
    "df_pearsonr = linkage_results_summary(linkage_output)"
   ]
  },
  {
   "cell_type": "code",
   "execution_count": null,
   "id": "8ce72c8a",
   "metadata": {
    "hidden": true
   },
   "outputs": [],
   "source": [
    "linkage_output_permute = lapply(gene_list, function(x) {gene_peak_linkage_analysis(x, distance, df_anno, MM_permute, df_promoter_ATAC, df_peak_ATAC)})\n",
    "df_pearsonr_permute = linkage_results_summary(linkage_output_permute)"
   ]
  },
  {
   "cell_type": "code",
   "execution_count": null,
   "id": "6396970a",
   "metadata": {
    "hidden": true
   },
   "outputs": [],
   "source": [
    "df_pearsonr_permute$permutation = 'cell_id_permutated'\n",
    "df_pearsonr$permutation = 'no_permutation'"
   ]
  },
  {
   "cell_type": "code",
   "execution_count": null,
   "id": "e8f8260d",
   "metadata": {
    "hidden": true
   },
   "outputs": [],
   "source": [
    "df_pearsonr_combine_positive = rbind(df_pearsonr %>% select(pearsonr,permutation),df_pearsonr_permute %>% select(pearsonr,permutation)) %>% filter(pearsonr>0)"
   ]
  },
  {
   "cell_type": "code",
   "execution_count": null,
   "id": "4cdf560d",
   "metadata": {
    "hidden": true
   },
   "outputs": [],
   "source": [
    "FDR_cutoff=0.05\n",
    "cutoff = seq(0.15,0.5,0.0025)\n",
    "FDR = list()\n",
    "True_link_num = list()\n",
    "False_link_num= list()\n",
    "\n",
    "for(pearsonr_cut in cutoff){\n",
    "df_pearsonr_combine_positive$pass_cutoff = df_pearsonr_combine_positive$pearsonr>pearsonr_cut\n",
    "df=table(df_pearsonr_combine_positive$pass_cutoff,df_pearsonr_combine_positive$permutation)\n",
    "tmp_FDR=df[2,1]/sum(df[2,1]+df[2,2])\n",
    "# print(paste0(pearsonr_cut,\":\",tmp_FDR))\n",
    "FDR[as.character(pearsonr_cut)] = tmp_FDR\n",
    "True_link_num[as.character(pearsonr_cut)] = df[2,2]\n",
    "False_link_num[as.character(pearsonr_cut)] = df[2,1]\n",
    "}\n",
    "df = as.data.frame(cbind(unlist(FDR),\n",
    "      unlist(True_link_num),\n",
    "      unlist(False_link_num)))\n",
    "colnames(df) = c(\"FDR\",\"Link\",\"Link_permutated\")\n",
    "df$pearsonr_cutoff = as.numeric(rownames(df))\n",
    "\n",
    "pearsonr_cutoff = min((df %>% filter(FDR<=FDR_cutoff))$pearsonr_cutoff)"
   ]
  },
  {
   "cell_type": "code",
   "execution_count": null,
   "id": "ec3bdc24",
   "metadata": {
    "hidden": true
   },
   "outputs": [],
   "source": [
    "df_pearsonr_filtered = df_pearsonr %>% dplyr::filter(pearsonr >= pearsonr_cutoff)"
   ]
  },
  {
   "cell_type": "code",
   "execution_count": null,
   "id": "b9494e6b",
   "metadata": {
    "hidden": true
   },
   "outputs": [],
   "source": [
    "saveRDS(df_pearsonr_filtered,\"df_pearsonr_filtered.rds\")"
   ]
  },
  {
   "cell_type": "code",
   "execution_count": null,
   "id": "6bd5d43f",
   "metadata": {
    "hidden": true
   },
   "outputs": [],
   "source": []
  }
 ],
 "metadata": {
  "kernelspec": {
   "display_name": "R [conda env:R4.1.new]",
   "language": "R",
   "name": "conda-env-R4.1.new-r"
  },
  "language_info": {
   "codemirror_mode": "r",
   "file_extension": ".r",
   "mimetype": "text/x-r-source",
   "name": "R",
   "pygments_lexer": "r",
   "version": "4.1.3"
  }
 },
 "nbformat": 4,
 "nbformat_minor": 5
}
